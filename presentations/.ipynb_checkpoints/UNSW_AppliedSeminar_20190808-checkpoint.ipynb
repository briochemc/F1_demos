{
 "cells": [
  {
   "cell_type": "markdown",
   "metadata": {
    "slideshow": {
     "slide_type": "slide"
    }
   },
   "source": [
    "<img src=\"https://pbs.twimg.com/profile_images/1829321548/ess_logo_400x400.png\" width=20% align=right>\n",
    "<img src=\"https://user-images.githubusercontent.com/4486578/57202054-3d1c4400-6fe4-11e9-97d7-9a1ffbfcb2fc.png\" width=20% align=left> \n",
    "\n",
    "<div style=\"text-align: center;\">\n",
    "    <span style=\"font-size: title\"> The F-1 algorithm</span><br><br>\n",
    "    <span style=\"color:#4053d8\">Benoît Pasquier</span> and <span style=\"color:#4053d8\">François Primeau</span><br>\n",
    "    University of California, Irvine\n",
    "</div>\n",
    "\n"
   ]
  },
  {
   "cell_type": "markdown",
   "metadata": {
    "slideshow": {
     "slide_type": "fragment"
    }
   },
   "source": [
    "<img src=\"https://user-images.githubusercontent.com/4486578/61258204-c657b000-a7b7-11e9-883a-f7d38a39d35c.png\" width=18% align=right><span style=\"color:#4053d8\">Paper</span>: *The F-1 algorithm for efficient computation of the Hessian matrix of an objective function defined implicitly by the solution of a steady-state problem*\n",
    "(under review)<br>\n",
    "<span style=\"color:#4053d8\">Code</span>: the F1Method package (open source, written in Julia)<br>\n",
    "(<span style=\"color:#4053d8\">Code</span> and <span style=\"color:#4053d8\">Paper</span> accessible from <span style=\"linkcolor:#4053d8\">www.bpasquier.com</span>)\n"
   ]
  },
  {
   "cell_type": "markdown",
   "metadata": {
    "slideshow": {
     "slide_type": "skip"
    }
   },
   "source": [
    "$\\newcommand{\\state}{\\boldsymbol{x}}$\n",
    "$\\newcommand{\\sol}{\\boldsymbol{s}}$\n",
    "$\\newcommand{\\params}{\\boldsymbol{p}}$\n",
    "$\\newcommand{\\lambdas}{\\boldsymbol{\\lambda}}$\n",
    "$\\newcommand{\\statefun}{\\boldsymbol{F}}$\n",
    "$\\newcommand{\\cost}{f}$\n",
    "$\\newcommand{\\objective}{\\hat{f}}$\n",
    "$\\DeclareMathOperator*{\\minimize}{minimize}$\n",
    "$\\newcommand{\\vece}{\\boldsymbol{e}}$\n",
    "$\\newcommand{\\matI}{\\mathbf{I}}$\n",
    "$\\newcommand{\\matA}{\\mathbf{A}}$"
   ]
  },
  {
   "cell_type": "markdown",
   "metadata": {
    "slideshow": {
     "slide_type": "slide"
    }
   },
   "source": [
    "## F-1 algorithm – Outline\n",
    "\n",
    "1. Motivation \\& Context \n",
    "1. Autodifferentiation\n",
    "1. What is the F-1 algorithm?\n",
    "1. Benchmarks"
   ]
  },
  {
   "cell_type": "markdown",
   "metadata": {
    "slideshow": {
     "slide_type": "fragment"
    }
   },
   "source": [
    "<img src=\"https://raw.githubusercontent.com/JuliaLang/julia-logo-graphics/master/images/julia-logo-color.png\" width=25% align=right>\n",
    "As we go through, I will demo some Julia code!"
   ]
  },
  {
   "cell_type": "markdown",
   "metadata": {
    "slideshow": {
     "slide_type": "slide"
    }
   },
   "source": [
    "<img src=\"https://user-images.githubusercontent.com/4486578/60554111-8fc27400-9d79-11e9-9ca7-6d78ee89ea70.png\" width=40% align=right>\n",
    "\n",
    "# Motivation\n",
    "\n",
    "For <span style=\"color:#cb3c33\">**parameter optimization**</span> and parameter sensitivity estimation!\n",
    "\n",
    "The [**AIBECS**](https://github.com/briochemc/AIBECS.jl) \n",
    "    *for building global marine steady-state biogeochemistry models in just a few commands* \n",
    "    (yesterday's CCRC seminar)\n",
    "    \n",
    "And the <span style=\"color:#cb3c33\">**F-1 algorithm**</span> to facilitate optimization of biogeochemical parameters.\n",
    "\n",
    "But the context of the **F-1 algorithm** is more general..."
   ]
  },
  {
   "cell_type": "markdown",
   "metadata": {
    "slideshow": {
     "slide_type": "slide"
    }
   },
   "source": [
    "# Context\n",
    "<span style=\"color:#9558b2\">**Steady-state**</span> equation\n",
    "\n",
    "<span style=\"color:#9558b2\">$$\\frac{\\partial \\state}{\\partial t} = \\statefun(\\state,\\params) = 0$$</span>\n",
    "\n",
    "for some <span style=\"color:#4063d8\">state $\\state$</span> (size $n \\sim 400\\,000$) and <span style=\"color:#4063d8\">parameters $\\params$</span> (size $m \\sim 10$)."
   ]
  },
  {
   "cell_type": "markdown",
   "metadata": {
    "slideshow": {
     "slide_type": "fragment"
    }
   },
   "source": [
    "<span style=\"color:#cb3c33\">**Constrained optimization**</span> problem\n",
    "\n",
    "$$\\left\\{\\begin{aligned}\n",
    "        \\minimize_{\\boldsymbol{x}, \\boldsymbol{p}} & & \\cost(\\state, \\params) \\\\\n",
    "        \\textrm{subject to} & & \\statefun(\\state, \\params) = 0\n",
    "    \\end{aligned}\\right.$$"
   ]
  },
  {
   "cell_type": "markdown",
   "metadata": {
    "slideshow": {
     "slide_type": "subslide"
    }
   },
   "source": [
    "<span style=\"color:#cb3c33\">**Unconstrained optimization**</span> along the manifold of steady-state solutions.\n",
    "\n",
    "<span style=\"color:#cb3c33\">$$\\minimize_\\params \\objective(\\params)$$</span>\n",
    "\n",
    "where \n",
    "<span style=\"color:#9558b2\">$$\\objective(\\params) \\equiv \\cost\\big(\\sol(\\params), \\params\\big)$$</span> \n",
    "is the <span style=\"color:#9558b2\">**objective**</span> function.\n",
    "\n",
    "And <span style=\"color:#4063d8\">$\\sol(\\params)$</span> is the <span style=\"color:#4063d8\">**steady-state solution**</span> for parameters <span style=\"color:#4063d8\">$\\params$</span>, i.e., such that\n",
    "\n",
    "$$\\statefun\\left(\\sol(\\params),\\params\\right) = 0$$\n",
    "\n"
   ]
  },
  {
   "cell_type": "markdown",
   "metadata": {
    "slideshow": {
     "slide_type": "subslide"
    }
   },
   "source": [
    "<img src=\"https://user-images.githubusercontent.com/4486578/61255958-25b0c280-a7ae-11e9-9d4c-7cd246e94e69.png\" width=50% align=right>\n",
    "\n",
    "Two **nested** iterative algorithms\n",
    "\n",
    "<span style=\"color:#cb3c33\">**Inner solver**</span> with Newton step\n",
    "\n",
    "$$\\Delta \\state \\equiv - \\left[\\nabla_\\state \\statefun(\\state,\\params)\\right]^{-1} \\statefun(\\state,\\params)$$\n",
    "\n",
    "Outer <span style=\"color:#cb3c33\">**Optimizer**</span> with Newton step\n",
    "\n",
    "$$\\Delta\\params \\equiv - \\left[\\nabla^2\\objective(\\params)\\right]^{-1}\\nabla \\objective(\\params)$$\n",
    "\n",
    "requires <span style=\"color:#389826\">the Hessian</span> of the objective function, \n",
    "\n",
    "<span style=\"color:#389826\">$$\\nabla^2 \\objective(\\params)$$</span>"
   ]
  },
  {
   "cell_type": "markdown",
   "metadata": {
    "slideshow": {
     "slide_type": "slide"
    }
   },
   "source": [
    "# Autodifferentiation\n",
    "\n",
    "Take the **Taylor expansion** of $\\objective(\\params)$ in the $h\\vece_j$ direction for a given $h$:\n",
    "\n",
    "$$\\objective(\\params + h \\vece_j)\n",
    "    = \\objective(\\params)\n",
    "    + h \\nabla\\objective(\\params) \\, \\vece_j \n",
    "    + \\frac{h^2}{2} \\, \\left[\\vece_j^\\mathsf{T} \\, \\nabla^2\\objective(\\params) \\, \\vece_j\\right]\n",
    "    + \\ldots$$"
   ]
  },
  {
   "cell_type": "markdown",
   "metadata": {
    "slideshow": {
     "slide_type": "fragment"
    }
   },
   "source": [
    "A standard solution is to use <span style=\"color:#964b00\">**Finite differences**</span>:\n",
    "\n",
    "<span style=\"color:#964b00\">$$\\nabla\\objective(\\params) \\, \\vece_j \n",
    "    = \\frac{\\objective(\\params + h \\vece_j) - \\objective(\\params)}{h}\n",
    "    + \\mathcal{O}(h)$$</span>\n",
    "    \n",
    "But <span style=\"color:#cb3c33\">truncation</span> and <span style=\"color:#cb3c33\">round-off</span> errors!"
   ]
  },
  {
   "cell_type": "markdown",
   "metadata": {
    "slideshow": {
     "slide_type": "subslide"
    }
   },
   "source": [
    "A better solution is to use <span style=\"color:#9558b2\">**Complex**</span> numbers!<br>\n",
    "Taylor-expand in the $ih\\vece_j$ direction:\n",
    "$$\\objective(\\params + i h \\vece_j)\n",
    "    = \\objective(\\params)\n",
    "    + i h \\nabla\\objective(\\params) \\, \\vece_j\n",
    "    - \\frac{h^2}{2} \\, \\left[\\vece_j^\\mathsf{T} \\, \\nabla^2\\objective(\\params) \\, \\vece_j\\right]\n",
    "    + \\ldots$$"
   ]
  },
  {
   "cell_type": "markdown",
   "metadata": {
    "slideshow": {
     "slide_type": "fragment"
    }
   },
   "source": [
    "Because when taking the imaginary part, the convergence is faster and there are no more round-off errors:\n",
    "\n",
    "<span style=\"color:#9558b2\">$$\\nabla\\objective(\\params) \\, \\vece_j = \\Im\\left[\\frac{\\objective(\\params + i h \\vece_j)}{h}\\right] + \\mathcal{O}(h^2)$$</span>\n"
   ]
  },
  {
   "cell_type": "code",
   "execution_count": 1,
   "metadata": {
    "slideshow": {
     "slide_type": "subslide"
    }
   },
   "outputs": [
    {
     "data": {
      "image/png": "[encoded data removed]",
      "text/plain": [
       "Figure(PyObject <Figure size 640x480 with 1 Axes>)"
      ]
     },
     "metadata": {},
     "output_type": "display_data"
    },
    {
     "data": {
      "text/plain": [
       "PyObject Text(0.5, 1, 'There are better alternatives to finite differences')"
      ]
     },
     "execution_count": 1,
     "metadata": {},
     "output_type": "execute_result"
    }
   ],
   "source": [
    "using PyPlot, PyCall\n",
    "𝑓(x) = cos(x^2) + exp(x)\n",
    "∇𝑓(x) = -2x * sin(x^2) + exp(x)\n",
    "finite_differences(f, x, h) = (f(x + h) - f(x)) / h\n",
    "complex_step_method(f, x, h) = imag(f(x + im * h)) / h\n",
    "relative_error(m, f, ∇f, x, h) = Float64(abs(BigFloat(m(f, x, h)) - ∇f(BigFloat(x))) / abs(∇f(x)))\n",
    "x, step_sizes = 2.0, 10 .^ (-20:0.02:0)\n",
    "numerical_schemes = [finite_differences, complex_step_method]\n",
    "plot(step_sizes, [relative_error(m, 𝑓, ∇𝑓, x, h) for h in step_sizes, m in numerical_schemes])\n",
    "loglog(), legend(string.(numerical_schemes)), xlabel(\"step size, \\$h\\$\"), ylabel(\"Relative Error, \\$\\\\frac{|\\\\bullet - \\\\nabla f(x)|}{|\\\\nabla f(x)|}\\$\")\n",
    "title(\"There are better alternatives to finite differences\")"
   ]
  },
  {
   "cell_type": "markdown",
   "metadata": {
    "slideshow": {
     "slide_type": "subslide"
    }
   },
   "source": [
    "An even better solution is to use <span style=\"color:#389826\">**Dual**</span> numbers! \n",
    "\n",
    "Define <span style=\"color:#389826\">$\\varepsilon \\ne 0$</span> s.t. <span style=\"color:#389826\">$\\varepsilon^2 = 0$</span>, then the complete Taylor expansion in the $\\varepsilon \\vece_j$ direction is\n",
    "\n",
    "$$\\objective(\\params + \\varepsilon \\vece_j)\n",
    "    = \\objective(\\params)\n",
    "    + \\varepsilon \\nabla\\objective(\\params) \\, \\vece_j$$"
   ]
  },
  {
   "cell_type": "markdown",
   "metadata": {
    "slideshow": {
     "slide_type": "fragment"
    }
   },
   "source": [
    "Hence, 1st derivatives are given <span style=\"color:#389826\">**exactly**</span> by\n",
    "\n",
    "<span style=\"color:#389826\">$$\\nabla\\objective(\\params) \\, \\vece_j = \\mathfrak{D}\\left[\\objective(\\params + \\varepsilon \\vece_j)\\right]$$</span>\n",
    "\n",
    "where <span style=\"color:#389826\">$\\mathfrak{D}$</span> is the dual part (the <span style=\"color:#389826\">$\\varepsilon_1$</span> coefficient)."
   ]
  },
  {
   "cell_type": "markdown",
   "metadata": {
    "slideshow": {
     "slide_type": "subslide"
    }
   },
   "source": [
    "The dual number <span style=\"color:#389826\">$\\varepsilon$</span> behaves like an <span style=\"color:#389826\">**infinitesimal**</span> and it gives very accurate derivatives!<br>"
   ]
  },
  {
   "cell_type": "code",
   "execution_count": 2,
   "metadata": {
    "scrolled": true,
    "slideshow": {
     "slide_type": "fragment"
    }
   },
   "outputs": [
    {
     "data": {
      "image/png": "[encoded data removed]",
      "text/plain": [
       "Figure(PyObject <Figure size 640x480 with 1 Axes>)"
      ]
     },
     "metadata": {},
     "output_type": "display_data"
    },
    {
     "data": {
      "text/plain": [
       "PyObject Text(0.5, 1, 'There are even better alternatives to complex-step differentiation')"
      ]
     },
     "execution_count": 2,
     "metadata": {},
     "output_type": "execute_result"
    }
   ],
   "source": [
    "using DualNumbers\n",
    "dual_step_method(f,x,h) = dualpart(f(x + ε))\n",
    "push!(numerical_schemes, dual_step_method)\n",
    "plot(step_sizes, [relative_error(m, 𝑓, ∇𝑓, x, h) for h in step_sizes, m in numerical_schemes])\n",
    "loglog(), legend(string.(numerical_schemes)), xlabel(\"step size, \\$h\\$\"), ylabel(\"Relative Error, \\$\\\\frac{|\\\\bullet - \\\\nabla f(x)|}{|\\\\nabla f(x)|}\\$\")\n",
    "title(\"There are even better alternatives to complex-step differentiation\")"
   ]
  },
  {
   "cell_type": "markdown",
   "metadata": {
    "slideshow": {
     "slide_type": "notes"
    }
   },
   "source": [
    "Just like complex identify with $\\mathbb{R}[X]/(X^2+1)$,<br>\n",
    "dual numbers identify with $\\mathbb{R}[X]/(X^2)$"
   ]
  },
  {
   "cell_type": "markdown",
   "metadata": {
    "slideshow": {
     "slide_type": "subslide"
    }
   },
   "source": [
    "The <span style=\"color:#389826\">**gradient**</span> of the objective function can be computed in $m$ dual evaluations of the objective function, via\n",
    "\n",
    "<span style=\"color:#389826\">$$\\nabla\\objective(\\params) = \\mathfrak{D} \\left( \\left[\\begin{matrix}\n",
    "\t\t\\objective(\\params + \\varepsilon \\vece_1) \\\\\n",
    "\t\t\\objective(\\params + \\varepsilon \\vece_2) \\\\\n",
    "\t\t\\vdots \\\\\n",
    "        \\objective(\\params + \\varepsilon \\vece_{m})\n",
    "    \\end{matrix} \\right]^\\mathsf{T} \\right)$$</span>\n",
    "    \n",
    "where $m$ is the number of parameters."
   ]
  },
  {
   "cell_type": "markdown",
   "metadata": {
    "slideshow": {
     "slide_type": "subslide"
    }
   },
   "source": [
    "For second derivatives, we can use <span style=\"color:#4063d8\">hyperdual</span> numbers.<br>\n",
    "Let <span style=\"color:#4063d8\">$\\varepsilon_1$</span> and <span style=\"color:#4063d8\">$\\varepsilon_2$</span> be the hyperdual units defined by <span style=\"color:#4063d8\">$\\varepsilon_1^2 = \\varepsilon_2^2 = 0$</span> but <span style=\"color:#4063d8\">$\\varepsilon_1 \\varepsilon_2 \\ne 0$</span>."
   ]
  },
  {
   "cell_type": "markdown",
   "metadata": {
    "slideshow": {
     "slide_type": "fragment"
    }
   },
   "source": [
    "Let <span style=\"color:#4063d8\">$\\params_{jk} = \\params + \\varepsilon_1 \\vece_j + \\varepsilon_2 \\vece_k$</span>, for which the Taylor expansion of $\\objective$ is\n",
    "\n",
    "$$\\objective(\\params_{jk})\n",
    "    = \\objective(\\params)\n",
    "    + \\varepsilon_1 \\nabla\\objective(\\params) \\vece_j\n",
    "    + \\varepsilon_2 \\nabla\\objective(\\params) \\vece_k\n",
    "    + \\varepsilon_1 \\varepsilon_2 \\vece_j^\\mathsf{T} \\nabla^2\\objective(\\params) \\vece_k$$"
   ]
  },
  {
   "cell_type": "markdown",
   "metadata": {
    "slideshow": {
     "slide_type": "fragment"
    }
   },
   "source": [
    "Taking the \"hyperdual\" part gives the second derivative:\n",
    "\n",
    "<span style=\"color:#4063d8\">$$\\vece_j^\\mathsf{T} \\nabla^2\\objective(\\params) \\vece_k = \\mathfrak{H}\\left[\\objective(\\params_{jk})\\right]$$</span>\n",
    "\n",
    "where <span style=\"color:#4063d8\">$\\mathfrak{H}$</span> stands for hyperdual part (the $\\varepsilon_1 \\varepsilon_2$ coefficient)."
   ]
  },
  {
   "cell_type": "markdown",
   "metadata": {
    "slideshow": {
     "slide_type": "subslide"
    }
   },
   "source": [
    "<span style=\"color:#4063d8\">Hyperdual</span> steps also give very accurate derivatives!"
   ]
  },
  {
   "cell_type": "code",
   "execution_count": 3,
   "metadata": {
    "slideshow": {
     "slide_type": "fragment"
    }
   },
   "outputs": [
    {
     "data": {
      "text/plain": [
       "4.8525589424770297e-17"
      ]
     },
     "execution_count": 3,
     "metadata": {},
     "output_type": "execute_result"
    }
   ],
   "source": [
    "# f(x) = cos(x^2) + exp(x)\n",
    "# ∇f(x) = -2x * sin(x^2) + exp(x)\n",
    "∇²𝑓(x) = -2sin(x^2) - 4x^2 * cos(x^2) + exp(x)\n",
    "using HyperDualNumbers\n",
    "hyperdual_step_method(f,x,h) = ε₁ε₂part(f(x + ε₁ + ε₂))\n",
    "relative_error(hyperdual_step_method, 𝑓, ∇²𝑓, 2.0, 1.0)"
   ]
  },
  {
   "cell_type": "markdown",
   "metadata": {
    "slideshow": {
     "slide_type": "subslide"
    }
   },
   "source": [
    "### <span style=\"color:#cb3c33\">Autodifferentiating through an iterative solver is expensive</span>\n",
    "\n",
    "The <span style=\"color:#4063d8\">Hessian</span> of $\\objective$ can be computed in $\\frac{m(m+1)}{2}$ hyperdual evaluations:\n",
    "\n",
    "<span style=\"color:#4063d8\">$$\\nabla^2\\objective(\\params) = \\mathfrak{H} \\left( \\left[\\begin{matrix}\n",
    "\t\t\\objective(\\params_{11})\n",
    "        & \\objective(\\params_{12})\n",
    "        & \\cdots\n",
    "        & \\objective(\\params_{1m})\n",
    "        \\\\\n",
    "\t\t\\objective(\\params_{12})\n",
    "        & \\objective(\\params_{22})\n",
    "        & \\cdots\n",
    "        & \\objective(\\params_{2m})\n",
    "        \\\\\n",
    "        \\vdots & \\vdots & \\ddots & \\vdots \\\\\n",
    "\t\t\\objective(\\params_{1m})\n",
    "        & \\objective(\\params_{2m})\n",
    "        & \\cdots\n",
    "        & \\objective(\\params_{mm})\n",
    "    \\end{matrix} \\right] \\right)$$</span>\n",
    "\n",
    "\n",
    "But this requires <span style=\"color:#cb3c33\">$\\frac{m(m+1)}{2}$ calls to the inner solver</span>, which requires <span style=\"color:#cb3c33\">hyperdual factorizations</span>, and <span style=\"color:#cb3c33\">fine-tuned non-real tolerances</span>!"
   ]
  },
  {
   "cell_type": "markdown",
   "metadata": {
    "slideshow": {
     "slide_type": "slide"
    }
   },
   "source": [
    "# What is the F-1 algorithm\n",
    "\n",
    "### What does it do?\n",
    "\n",
    "The F-1 algorithm allows you to calculate the <span style=\"color:#389826\">**gradient**</span> and <span style=\"color:#4063d8\">**Hessian**</span> of an objective function, $\\objective(\\params)$, defined implicitly by the solution of a steady-state problem.\n",
    "\n",
    "### How does it work?\n",
    "\n",
    "It leverages analytical shortcuts combined with <span style=\"color:#389826\">**dual**</span> and <span style=\"color:#4063d8\">**hyperdual**</span> numbers."
   ]
  },
  {
   "cell_type": "markdown",
   "metadata": {
    "slideshow": {
     "slide_type": "subslide"
    }
   },
   "source": [
    "### Analytical <span style=\"color:#389826\">gradient</span>\n",
    "\n",
    "Differentiate the objective function $\\objective(\\params) = \\cost\\left(\\sol(\\params), \\params\\right)$:\n",
    "\n",
    "$$\\underbrace{\\nabla\\objective(\\params)}_{1 \\times m}\n",
    "    = \\underbrace{\\nabla_\\state\\cost(\\sol, \\params)_{\\vphantom{\\params}}}_{1 \\times n} \\,\n",
    "     \\underbrace{\\nabla \\sol(\\params)_{\\vphantom{\\params}}}_{n \\times m}\n",
    "    + \\underbrace{\\nabla_\\params \\cost(\\sol, \\params)}_{1 \\times m}$$\n",
    "    \n",
    "Differentiate the steady-state equation, $\\statefun\\left(\\sol(\\params),\\params\\right)=0$:\n",
    "\n",
    "$$\\underbrace{\\matA_{\\vphantom{\\params}}}_{n \\times n} \\,\n",
    "     \\underbrace{\\nabla\\sol(\\params)_{\\vphantom{\\params}}}_{n \\times m}\n",
    "    + \\underbrace{\\nabla_\\params \\statefun(\\sol, \\params)}_{n\\times m} = 0$$\n",
    "    \n",
    "where $\\matA \\equiv \\nabla_\\state\\statefun(\\sol,\\params)$ is the <span style=\"color:#cb3c33\">**Jacobian**</span> of the steady-state system (a large, sparse matrix)"
   ]
  },
  {
   "cell_type": "markdown",
   "metadata": {
    "slideshow": {
     "slide_type": "subslide"
    }
   },
   "source": [
    "### Analytical <span style=\"color:#4063d8\">Hessian</span>\n",
    "\n",
    "Differentiate $\\objective(\\params) = \\cost\\left(\\sol(\\params), \\params\\right)$ twice:\n",
    "\n",
    "$$\\begin{split}\n",
    "    \t\\nabla^2 \\objective(\\params)\n",
    "    \t&= \\nabla_{\\state\\state}\\cost(\\sol, \\params) \\, (\\nabla\\sol \\otimes \\nabla\\sol)\n",
    "        + \\nabla_{\\state\\params}\\cost(\\sol, \\params) \\, (\\nabla\\sol \\otimes \\matI_\\params) \\\\\n",
    "    \t&\\quad+ \\nabla_{\\params\\state}\\cost(\\sol, \\params) \\, (\\matI_\\params \\otimes \\nabla\\sol)\n",
    "        + \\nabla_{\\params\\params}\\cost(\\sol, \\params) \\, (\\matI_\\params \\otimes \\matI_\\params) \\\\\n",
    "    \t&\\quad+ \\nabla_\\state\\cost(\\sol, \\params) \\, \\nabla^2\\sol,\n",
    "\t\\end{split}$$\n",
    "    \n",
    "Differentiate the steady-state equation, $\\statefun\\left(\\sol(\\params),\\params\\right)=0$, twice:\n",
    "\n",
    "$$\\begin{split}\n",
    "          0 & = \\nabla_{\\state\\state}\\statefun(\\sol, \\params) \\, (\\nabla\\sol \\otimes \\nabla\\sol)\n",
    "        + \\nabla_{\\state\\params}\\statefun(\\sol, \\params) \\, (\\nabla\\sol \\otimes \\matI_\\params)\\\\\n",
    "\t\t& \\quad + \\nabla_{\\params\\state}\\statefun(\\sol, \\params) \\, (\\matI_\\params \\otimes \\nabla\\sol)\n",
    "        + \\nabla_{\\params\\params}\\statefun(\\sol, \\params) \\, (\\matI_\\params \\otimes \\matI_\\params) \\\\\n",
    "\t\t& \\quad + \\matA \\, \\nabla^2\\sol.\n",
    "\t\\end{split}$$\n",
    "    \n",
    "(Tensor notation of Manton [2012])"
   ]
  },
  {
   "cell_type": "markdown",
   "metadata": {
    "slideshow": {
     "slide_type": "subslide"
    }
   },
   "source": [
    "### F-1  <span style=\"color:#389826\">Gradient</span> and <span style=\"color:#4063d8\">Hessian</span>\n",
    "\n",
    "1. Find the steady state solution $\\sol(\\params)$\n",
    "\n",
    "1. Factorize the Jacobian $\\matA = \\nabla_\\state \\statefun\\left(\\sol(\\params), \\params\\right)$ <span style=\"color:#9558b2\">($1$ factorization)</span>\n",
    "\n",
    "1. Compute $\\nabla\\sol(\\params) = -\\matA^{-1} \\nabla_\\params \\statefun(\\sol, \\params)$ <span style=\"color:#9558b2\">($m$ forward and back substitutions)</span>\n",
    "\n",
    "1. Compute the <span style=\"color:#389826\">**gradient**</span>\n",
    "\n",
    "    <span style=\"color:#389826\">$$\\nabla\\objective(\\params)\n",
    "    = \\nabla_\\state\\cost(\\sol, \\params) \\,\n",
    "     \\nabla \\sol(\\params)\n",
    "    + \\nabla_\\params \\cost(\\sol, \\params)$$</span>\n",
    "\n",
    "1. Compute the <span style=\"color:#4063d8\">**Hessian**</span> <span style=\"color:#9558b2\">($1$ forward and back substitution)</span>\n",
    "\n",
    "    <span style=\"color:#4063d8\">$$[\\nabla^2\\objective(\\params)]_{jk}\n",
    "    = \\mathfrak{H}\\big[\\cost(\\state_{jk}, \\params_{jk})\\big]\n",
    "    - \\mathfrak{H}\\big[\\statefun(\\state_{jk}, \\params_{jk})^\\mathsf{T}\\big]\n",
    "    \\, \\matA^{-\\mathsf{T}} \\,\\nabla_\\state\\cost(\\sol,\\params)^\\mathsf{T}$$</span>\n",
    "    \n",
    "    where $\\state_{jk} \\equiv \\sol + \\varepsilon_1 \\nabla\\sol \\, \\vece_j +\\varepsilon_2 \\nabla\\sol \\, \\vece_k$"
   ]
  },
  {
   "cell_type": "markdown",
   "metadata": {
    "slideshow": {
     "slide_type": "slide"
    }
   },
   "source": [
    "# Demo"
   ]
  },
  {
   "cell_type": "markdown",
   "metadata": {
    "slideshow": {
     "slide_type": "fragment"
    }
   },
   "source": [
    "Let us first quickly build a model using the AIBECS\n",
    "\n",
    "This will create $\\statefun(\\state,\\params)$ and $\\cost(\\state,\\params)$ and some derivatives, such that we have an **expensive objective function**, $\\objective(\\params)$, defined implicitly by the solution $\\sol(\\params)$.\n",
    "\n",
    "Below I will skip the details of the model but I will run the code that generates `F`, `∇ₓF`, `f`, and `∇ₓf`."
   ]
  },
  {
   "cell_type": "markdown",
   "metadata": {
    "slideshow": {
     "slide_type": "subslide"
    }
   },
   "source": [
    "<img src=\"https://user-images.githubusercontent.com/4486578/61575475-9b4ec280-ab0f-11e9-9612-0bad30f4df58.gif\" width=20% align=right>\n",
    "\n",
    "### Simple phosphorus-cycling model:<br>\n",
    "\\- Dissolved inorganic phosphorus (**<span style=\"color:#0076BA\">DI</span>P**)<br>\n",
    "\\- Particulate organic phosphorus (**<span style=\"color:#1DB100\">PO</span>P**)\n",
    "\n",
    "Tracer equations:\n",
    "\n",
    "$\\left[\\frac{\\partial}{\\partial t} + \\nabla \\cdot (\\boldsymbol{u} + \\mathbf{K}\\cdot\\nabla )\\right] x_\\mathsf{DIP} = -U(x_\\mathsf{DIP}) + R(x_\\mathsf{POP})$\n",
    "\n",
    "$\\left[\\frac{\\partial}{\\partial t} + \\nabla \\cdot \\boldsymbol{w}\\right] x_\\mathsf{POP} = U(x_\\mathsf{DIP}) - R(x_\\mathsf{POP})$"
   ]
  },
  {
   "cell_type": "markdown",
   "metadata": {
    "slideshow": {
     "slide_type": "skip"
    }
   },
   "source": [
    "The 3D vector $\\boldsymbol{u}$ is the fluid velocity and $\\mathbf{K}$ is the eddy-diffusion tensor.\n",
    "Thus, $\\nabla \\cdot \\left[ \\boldsymbol{u} - \\mathbf{K} \\cdot \\nabla \\right]$ is a differential operator that represents the transport by the ocean circulation.\n",
    "The 3D vector $\\boldsymbol{w}$ is the particulate sinking velocity, so that the operator $\\nabla \\cdot \\boldsymbol{w}$ acting on $x_\\mathsf{POP}$ is the divergence of the flux of POP.\n",
    "We will assume that it increases linearly with depth, i.e., that\n",
    "\n",
    "$$\\boldsymbol{w}(\\boldsymbol{r}) = \\boldsymbol{w}_0 + \\boldsymbol{w}' z,$$\n",
    "\n",
    "where $\\boldsymbol{w}_0$ and $\\boldsymbol{w}'$ are simple scalars, independent of location $\\boldsymbol{r}$.\n",
    "($z$ represents the depth of location $\\boldsymbol{r}=(x,y,z)$.)\n",
    "\n",
    "The function $U$ represents the biological uptake of DIP by phytoplankton, which we model as\n",
    "\n",
    "$$U(x_\\mathsf{DIP}) = \\frac{x_\\mathsf{DIP}}{\\tau} \\, \\frac{x_\\mathsf{DIP}}{x_\\mathsf{DIP} + k} \\, (z < z_0),$$\n",
    "\n",
    "where the timescale, $\\tau$, sets the maximum specific DIP uptake rate.\n",
    "The first term in the product scales linearly with DIP, which is a nice property to have in general.\n",
    "It also makes it easier to reason about the extreme cases.\n",
    "However, here the uptake is not linear:\n",
    "the second term in the product is a hyperbolic term (after Monod or Michaelis-Menten) and reduces the slope of the uptake function when DIP is low.\n",
    "When DIP is very low, the slope is close to 0.\n",
    "But when DIP is very high, the slope is close to $1/τ$.\n",
    "The last term is to be understood as a condition, i.e., that the uptake happens only in the euphotic layer, where there is sufficient light for photosynthesis to occur.\n",
    "The depth $z_0$ is the depth of the euphotic layer.\n",
    "\n",
    "The function $R$ defines the remineralization rate of POP, which converts POP back into DIP.\n",
    "For the remineralization, we simply use a linear rate constant, i.e.,\n",
    "\n",
    "$$R(x_\\mathsf{POP}) = \\kappa \\, x_\\mathsf{POP}.$$"
   ]
  },
  {
   "cell_type": "code",
   "execution_count": 4,
   "metadata": {
    "slideshow": {
     "slide_type": "subslide"
    }
   },
   "outputs": [
    {
     "name": "stdout",
     "output_type": "stream",
     "text": [
      "Loading OCIM0.1 ✔\n"
     ]
    },
    {
     "name": "stderr",
     "output_type": "stream",
     "text": [
      "┌ Info: You are about to use OCIM0.1 model.\n",
      "│ If you use it for research, please cite:\n",
      "│ \n",
      "│ - Primeau, F. W., Holzer, M., and DeVries, T. (2013), Southern Ocean nutrient trapping and the efficiency of the biological pump, J. Geophys. Res. Oceans, 118, 2547–2564, doi:10.1002/jgrc.20181.\n",
      "│ - DeVries, T. and F. Primeau, 2011: Dynamically and Observationally Constrained Estimates of Water-Mass Distributions and Ages in the Global Ocean. J. Phys. Oceanogr., 41, 2381–2401, doi:10.1175/JPO-D-10-05011.1\n",
      "│ \n",
      "│ You can find the corresponding BibTeX entries in the CITATION.bib file\n",
      "│ at the root of the AIBECS.jl package repository.\n",
      "│ (Look for the \"DeVries_Primeau_2011\" and \"Primeau_etal_2013\" keys.)\n",
      "└ @ AIBECS.OCIM0 /Users/benoitpasquier/.julia/dev/AIBECS/src/OCIM0.jl:53\n"
     ]
    },
    {
     "name": "stdout",
     "output_type": "stream",
     "text": [
      "Registering WOA data with DataDeps\n",
      "  Reading NetCDF file\n",
      "  Rearranging data\n",
      "  Filtering data\n",
      "  Averaging data over each grid box\n",
      "  Setting μ = 0 and σ² = ∞ where no obs\n",
      "  Setting a realistic minimum for σ²\n"
     ]
    },
    {
     "data": {
      "text/plain": [
       "(::getfield(AIBECS, Symbol(\"#∇ₚf#65\")){Float64,Array{Float64,1},Array{Float64,1}}) (generic function with 1 method)"
      ]
     },
     "execution_count": 4,
     "metadata": {},
     "output_type": "execute_result"
    }
   ],
   "source": [
    "using AIBECS\n",
    "wet3D, grd, T_OCIM = OCIM0.load()\n",
    "T_DIP(p) = T_OCIM\n",
    "ztop = vector_of_top_depths(wet3D, grd) .|> ustrip\n",
    "iwet = findall(vec(wet3D))\n",
    "nb = length(iwet)\n",
    "DIV = buildDIV(wet3D, iwet, grd)\n",
    "Iabove = buildIabove(wet3D, iwet)\n",
    "const S₀ = buildPFD(ones(nb), DIV, Iabove)\n",
    "const S′ = buildPFD(ztop, DIV, Iabove)\n",
    "function T_POP(p)\n",
    "    w₀, w′ = p.w₀, p.w′\n",
    "    return w₀ * S₀ + w′ * S′\n",
    "end\n",
    "w(p) = p.w₀ .+ p.w′ * z\n",
    "z = grd.depth_3D[iwet] .|> ustrip\n",
    "T_all = (T_DIP, T_POP)\n",
    "geores(x, p) = (p.xgeo .- x) / p.τg\n",
    "relu(x) = (x .≥ 0) .* x\n",
    "function uptake(DIP, p)\n",
    "    τ, k, z₀ = p.τ, p.k, p.z₀\n",
    "    DIP⁺ = relu(DIP)\n",
    "    return 1/τ * DIP⁺.^2 ./ (DIP⁺ .+ k) .* (z .≤ z₀)\n",
    "end\n",
    "remineralization(POP, p) = p.κ * POP\n",
    "sms_DIP(DIP, POP, p) = -uptake(DIP, p) + remineralization(POP, p) + geores(DIP, p)\n",
    "sms_POP(DIP, POP, p) =  uptake(DIP, p) - remineralization(POP, p)\n",
    "sms_all = (sms_DIP, sms_POP)\n",
    "t = empty_parameter_table()\n",
    "add_parameter!(t, :xgeo, 2.17u\"mmol/m^3\",\n",
    "               optimizable = true,\n",
    "               variance_obs = ustrip(upreferred(0.1 * 2.17u\"mmol/m^3\"))^2,\n",
    "               description = \"Mean PO₄ concentration\")\n",
    "add_parameter!(t, :τg, 1.0u\"Myr\",\n",
    "               description = \"Geological restoring timescale\")\n",
    "add_parameter!(t, :k, 5.0u\"μmol/m^3\",\n",
    "               optimizable = true,\n",
    "               description = \"Half-saturation constant (Michaelis-Menten)\")\n",
    "add_parameter!(t, :z₀, 80.0u\"m\",\n",
    "               description = \"Depth of the euphotic layer base\")\n",
    "add_parameter!(t, :w₀, 0.5u\"m/d\",\n",
    "               optimizable = true,\n",
    "               description = \"Sinking velocity at surface\")\n",
    "add_parameter!(t, :w′, 0.1u\"1/d\",\n",
    "               optimizable = true,\n",
    "               description = \"Vertical gradient of sinking velocity\")\n",
    "add_parameter!(t, :κ, 0.3u\"1/d\",\n",
    "               optimizable = true,\n",
    "               description = \"Remineralization rate constant (POP to DIP)\")\n",
    "add_parameter!(t, :τ, 100.0u\"d\",\n",
    "               optimizable = true,\n",
    "               description = \"Maximum uptake rate timescale\")\n",
    "initialize_Parameters_type(t, \"Pcycle_Parameters\")\n",
    "p = Pcycle_Parameters()\n",
    "F, ∇ₓF = state_function_and_Jacobian(T_all, sms_all, nb)\n",
    "x = p.xgeo * ones(2nb)\n",
    "\n",
    "using WorldOceanAtlasTools\n",
    "μDIPobs3D, σ²DIPobs3D = WorldOceanAtlasTools.fit_to_grid(grd, 2018, \"phosphate\", \"annual\", \"1°\", \"an\")\n",
    "μDIPobs, σ²DIPobs = μDIPobs3D[iwet], σ²DIPobs3D[iwet]\n",
    "μx = (μDIPobs, missing)\n",
    "σ²x = (σ²DIPobs, missing)\n",
    "ωs = [1.0, 0.0]\n",
    "ωp = 1e-4 \n",
    "v = vector_of_volumes(wet3D, grd) .|> ustrip\n",
    "f   =   generate_objective(ωs, μx, σ²x, v, ωp, mean_obs(p), variance_obs(p))\n",
    "∇ₓf = generate_∇ₓobjective(ωs, μx, σ²x, v, ωp, mean_obs(p), variance_obs(p))\n",
    "∇ₚf = generate_∇ₚobjective(ωs, μx, σ²x, v, ωp, mean_obs(p), variance_obs(p))\n"
   ]
  },
  {
   "cell_type": "markdown",
   "metadata": {
    "slideshow": {
     "slide_type": "subslide"
    }
   },
   "source": [
    "### 6 parameters"
   ]
  },
  {
   "cell_type": "code",
   "execution_count": 5,
   "metadata": {
    "slideshow": {
     "slide_type": "fragment"
    }
   },
   "outputs": [
    {
     "data": {
      "text/plain": [
       "  xgeo = 2.17e+00 [mmol m⁻³] \n",
       "    τg = 1.00e+00 [Myr] (fixed)\n",
       "     k = 5.00e+00 [μmol m⁻³] \n",
       "    z₀ = 8.00e+01 [m] (fixed)\n",
       "    w₀ = 5.00e-01 [m d⁻¹] \n",
       "    w′ = 1.00e-01 [d⁻¹] \n",
       "     κ = 3.00e-01 [d⁻¹] \n",
       "     τ = 1.00e+02 [d] \n"
      ]
     },
     "execution_count": 5,
     "metadata": {},
     "output_type": "execute_result"
    },
    {
     "name": "stdout",
     "output_type": "stream",
     "text": [
      "Pcycle_Parameters{Float64}\n"
     ]
    }
   ],
   "source": [
    "p"
   ]
  },
  {
   "cell_type": "markdown",
   "metadata": {
    "slideshow": {
     "slide_type": "slide"
    }
   },
   "source": [
    "# Using the F-1 algorithm is easy"
   ]
  },
  {
   "cell_type": "code",
   "execution_count": 6,
   "metadata": {
    "slideshow": {
     "slide_type": "fragment"
    }
   },
   "outputs": [
    {
     "data": {
      "text/plain": [
       "hessian (generic function with 1 method)"
      ]
     },
     "execution_count": 6,
     "metadata": {},
     "output_type": "execute_result"
    }
   ],
   "source": [
    "using F1Method\n",
    "mem = F1Method.initialize_mem(x, p) \n",
    "objective(p) = F1Method.objective(f, F, ∇ₓF, mem, p, CTKAlg(); preprint=\" \")\n",
    "gradient(p) = F1Method.gradient(f, F, ∇ₓf, ∇ₓF, mem, p, CTKAlg(); preprint=\" \")\n",
    "hessian(p) = F1Method.hessian(f, F, ∇ₓf, ∇ₓF, mem, p, CTKAlg(); preprint=\" \")"
   ]
  },
  {
   "cell_type": "markdown",
   "metadata": {
    "slideshow": {
     "slide_type": "fragment"
    }
   },
   "source": [
    "That's it, we have defined functions that \"autodifferentiate\" through the iterative solver!"
   ]
  },
  {
   "cell_type": "markdown",
   "metadata": {
    "slideshow": {
     "slide_type": "slide"
    }
   },
   "source": [
    "# Testing the F-1 algorithm\n",
    "\n",
    "We simply call the objective,"
   ]
  },
  {
   "cell_type": "code",
   "execution_count": 7,
   "metadata": {
    "slideshow": {
     "slide_type": "fragment"
    }
   },
   "outputs": [
    {
     "name": "stdout",
     "output_type": "stream",
     "text": [
      " (No initial Jacobian factors fed to Newton solver)\n",
      " Solving F(x) = 0 (using Shamanskii Method)\n",
      " │   iteration     |F(x)|   |δx|/|x|   Jac age   fac age\n",
      " │       0        5.5e-06                               \n",
      " │       1        4.1e-12    7.7e-01        1         1    \n",
      " │       2        2.7e-13    1.0e-05        2         2    \n",
      " │       3        2.2e-14    3.7e-07        3         3    \n",
      " │       4        2.0e-15    3.2e-08        4         4    \n",
      " │       5        2.0e-16    3.0e-09        5         5    \n",
      " │       6        2.1e-17    3.1e-10        6         6    \n",
      " │       7        2.3e-18    3.3e-11        7         7    \n",
      " │       8        2.6e-19    3.8e-12        8         8    \n",
      " │       9        3.0e-20    1.2e-12        9         9    \n",
      " └─> Newton has converged, |x|/|F(x)| = 1e+12 years\n"
     ]
    },
    {
     "data": {
      "text/plain": [
       "0.009654148058895291"
      ]
     },
     "execution_count": 7,
     "metadata": {},
     "output_type": "execute_result"
    }
   ],
   "source": [
    "objective(p)"
   ]
  },
  {
   "cell_type": "markdown",
   "metadata": {
    "slideshow": {
     "slide_type": "subslide"
    }
   },
   "source": [
    "the gradient,"
   ]
  },
  {
   "cell_type": "code",
   "execution_count": 8,
   "metadata": {
    "slideshow": {
     "slide_type": "fragment"
    }
   },
   "outputs": [
    {
     "data": {
      "text/plain": [
       "1×6 Array{Float64,2}:\n",
       " -15.9279  9.05772  -37.5944  -9661.29  3326.29  1.13229e-10"
      ]
     },
     "execution_count": 8,
     "metadata": {},
     "output_type": "execute_result"
    }
   ],
   "source": [
    "gradient(p)"
   ]
  },
  {
   "cell_type": "markdown",
   "metadata": {
    "slideshow": {
     "slide_type": "fragment"
    }
   },
   "source": [
    "and the Hessian,"
   ]
  },
  {
   "cell_type": "code",
   "execution_count": 9,
   "metadata": {
    "slideshow": {
     "slide_type": "fragment"
    }
   },
   "outputs": [
    {
     "data": {
      "text/plain": [
       "6×6 Array{Float64,2}:\n",
       "     1.95739e5    -7994.37        …  -4.39396e6   -1.04921e-6 \n",
       " -7994.37             3.78521e6       1.59453e6    9.90002e-7 \n",
       "     1.32924e5   -98274.9             7.01703e5   -3.56705e-6 \n",
       "     1.25173e7       -4.29221e6       2.42006e9   -0.000106045\n",
       "    -4.39396e6        1.59453e6      -1.75386e9    4.12933e-5 \n",
       "    -1.04921e-6       9.90002e-7  …   4.12933e-5   2.87856e-17"
      ]
     },
     "execution_count": 9,
     "metadata": {},
     "output_type": "execute_result"
    }
   ],
   "source": [
    "hessian(p)"
   ]
  },
  {
   "cell_type": "markdown",
   "metadata": {
    "slideshow": {
     "slide_type": "subslide"
    }
   },
   "source": [
    "And do it again after updating the parameters, this time also recording the time spent, for the objective,"
   ]
  },
  {
   "cell_type": "code",
   "execution_count": 10,
   "metadata": {
    "slideshow": {
     "slide_type": "fragment"
    }
   },
   "outputs": [
    {
     "name": "stdout",
     "output_type": "stream",
     "text": [
      " (No initial Jacobian factors fed to Newton solver)\n",
      " Solving F(x) = 0 (using Shamanskii Method)\n",
      " │   iteration     |F(x)|   |δx|/|x|   Jac age   fac age\n",
      " │       0        4.7e-09                               \n",
      " │       1        3.8e-12    9.9e-02        1         1    \n",
      " │       2        2.9e-13    4.9e-06        2         2    \n",
      " │       3        3.0e-14    4.5e-07        3         3    \n",
      " │       4        3.3e-15    4.8e-08        4         4    \n",
      " │       5        3.7e-16    5.4e-09        5         5    \n",
      " │       6        4.3e-17    6.2e-10        6         6    \n",
      " │       7        4.9e-18    7.1e-11        7         7    \n",
      " │       8        5.6e-19    8.3e-12        8         8    \n",
      " │       9        6.4e-20    1.9e-12        9         9    \n",
      " │      10        7.4e-21    5.2e-12       10        10    \n",
      " └─> Newton has converged, |x|/|F(x)| = 4.5e+12 years\n",
      " 37.949523 seconds (12.54 k allocations: 4.125 GiB, 8.51% gc time)\n"
     ]
    },
    {
     "data": {
      "text/plain": [
       "0.01073260265811886"
      ]
     },
     "execution_count": 10,
     "metadata": {},
     "output_type": "execute_result"
    }
   ],
   "source": [
    "@time objective(1.1p)"
   ]
  },
  {
   "cell_type": "markdown",
   "metadata": {
    "slideshow": {
     "slide_type": "subslide"
    }
   },
   "source": [
    "the gradient,"
   ]
  },
  {
   "cell_type": "code",
   "execution_count": 11,
   "metadata": {
    "slideshow": {
     "slide_type": "fragment"
    }
   },
   "outputs": [
    {
     "name": "stdout",
     "output_type": "stream",
     "text": [
      " 28.943959 seconds (2.67 k allocations: 3.687 GiB, 7.32% gc time)\n"
     ]
    },
    {
     "data": {
      "text/plain": [
       "1×6 Array{Float64,2}:\n",
       " 25.4747  9.91269  -8.38374  -6268.7  2153.61  -6.97202e-11"
      ]
     },
     "execution_count": 11,
     "metadata": {},
     "output_type": "execute_result"
    }
   ],
   "source": [
    "@time gradient(1.1p) "
   ]
  },
  {
   "cell_type": "markdown",
   "metadata": {
    "slideshow": {
     "slide_type": "fragment"
    }
   },
   "source": [
    "and the Hessian,"
   ]
  },
  {
   "cell_type": "code",
   "execution_count": 12,
   "metadata": {
    "slideshow": {
     "slide_type": "fragment"
    }
   },
   "outputs": [
    {
     "name": "stdout",
     "output_type": "stream",
     "text": [
      " 17.465265 seconds (6.81 k allocations: 10.414 GiB, 41.85% gc time)\n"
     ]
    },
    {
     "data": {
      "text/plain": [
       "6×6 Array{Float64,2}:\n",
       " 194390.0         -7210.06         1.37981e5   …  -4.75529e6    -1.06793e-6 \n",
       "  -7210.06            2.6767e6    -1.14666e5       2.31281e6     1.09749e-6 \n",
       "      1.37981e5      -1.14666e5    2.66979e6      -1.3653e7     -7.11517e-6 \n",
       "      1.3576e7       -6.36511e6    5.19961e7       3.78458e8    -0.000387782\n",
       "     -4.75529e6       2.31281e6   -1.3653e7       -6.57363e8     0.000141119\n",
       "     -1.06793e-6      1.09749e-6  -7.11517e-6  …   0.000141119   7.76363e-17"
      ]
     },
     "execution_count": 12,
     "metadata": {},
     "output_type": "execute_result"
    }
   ],
   "source": [
    "@time hessian(1.1p)"
   ]
  },
  {
   "cell_type": "code",
   "execution_count": 13,
   "metadata": {
    "slideshow": {
     "slide_type": "fragment"
    }
   },
   "outputs": [
    {
     "data": {
      "text/html": [
       "<style>\n",
       ".rendered_html table, .rendered_html th, .rendered_html tr, .rendered_html td {\n",
       "     font-size: 100%;\n",
       "}\n",
       "</style>\n"
      ],
      "text/plain": [
       "HTML{String}(\"<style>\\n.rendered_html table, .rendered_html th, .rendered_html tr, .rendered_html td {\\n     font-size: 100%;\\n}\\n</style>\\n\")"
      ]
     },
     "execution_count": 13,
     "metadata": {},
     "output_type": "execute_result"
    }
   ],
   "source": [
    "HTML(\"\"\"\n",
    "<style>\n",
    ".rendered_html table, .rendered_html th, .rendered_html tr, .rendered_html td {\n",
    "     font-size: 100%;\n",
    "}\n",
    "</style>\n",
    "\"\"\")"
   ]
  },
  {
   "cell_type": "markdown",
   "metadata": {
    "slideshow": {
     "slide_type": "slide"
    }
   },
   "source": [
    "# Benchmark the F-1 algorithm\n",
    "\n",
    "\n",
    "| Algorithm   | Definition                                            | Factorizations     |\n",
    "|:------------|:------------------------------------------------------|:-------------------|\n",
    "| **F-1**     | F-1 algorithm                                         | $\\mathcal{O}(1)$   |\n",
    "| **DUAL**    | Dual step for Hessian + Analytical gradient           | $\\mathcal{O}(m)$   |\n",
    "| **COMPLEX** | Complex step for Hessian + Analytical gradient        | $\\mathcal{O}(m)$   |\n",
    "| **FD1**     | Finite differences for Hessian + Analytical gradient  | $\\mathcal{O}(m)$   |\n",
    "| **HYPER**   | Hyperdual step for Hessian and dual step for gradient | $\\mathcal{O}(m^2)$ |\n",
    "| **FD2**     | Finite differences for Hessian and gradient           | $\\mathcal{O}(m^2)$ |\n"
   ]
  },
  {
   "cell_type": "markdown",
   "metadata": {
    "slideshow": {
     "slide_type": "subslide"
    }
   },
   "source": [
    "# Computation time full optimization\n",
    "\n",
    "<center><img src=\"https://user-images.githubusercontent.com/4486578/61168770-56b6aa80-a596-11e9-9f0d-deb26babb8cf.png\" width=70%></center>\n"
   ]
  },
  {
   "cell_type": "markdown",
   "metadata": {
    "slideshow": {
     "slide_type": "subslide"
    }
   },
   "source": [
    "# Partition of computation time\n",
    "\n",
    "<center><img src=\"https://user-images.githubusercontent.com/4486578/61168767-4c94ac00-a596-11e9-90e4-7137177bf554.png\" width=50%></center>\n"
   ]
  },
  {
   "cell_type": "code",
   "execution_count": 14,
   "metadata": {
    "slideshow": {
     "slide_type": "fragment"
    }
   },
   "outputs": [],
   "source": [
    ";say \"Wow! So fast!\""
   ]
  },
  {
   "cell_type": "markdown",
   "metadata": {
    "slideshow": {
     "slide_type": "slide"
    }
   },
   "source": [
    "# Conclusions\n",
    "\n",
    "\n",
    "<img src=\"https://user-images.githubusercontent.com/4486578/61168770-56b6aa80-a596-11e9-9f0d-deb26babb8cf.png\" width=30% align=left>\n",
    "\n",
    "\n",
    "\n",
    "The F-1 algorithm is \n",
    "\n",
    "- **easy** to use and understand,\n",
    "- **accurate** on par with machine-precision, and\n",
    "- **very fast**!"
   ]
  },
  {
   "cell_type": "markdown",
   "metadata": {
    "slideshow": {
     "slide_type": "fragment"
    }
   },
   "source": [
    "<img src=\"https://user-images.githubusercontent.com/4486578/61168767-4c94ac00-a596-11e9-90e4-7137177bf554.png\" width=40% align=right>\n",
    "\n",
    "Check it on Github at [briochemc/F1Method.jl](https://github.com/briochemc/F1Method.jl)!\n"
   ]
  },
  {
   "cell_type": "code",
   "execution_count": null,
   "metadata": {},
   "outputs": [],
   "source": []
  }
 ],
 "metadata": {
  "@webio": {
   "lastCommId": null,
   "lastKernelId": null
  },
  "celltoolbar": "Slideshow",
  "kernelspec": {
   "display_name": "Julia 1.1.1",
   "language": "julia",
   "name": "julia-1.1"
  },
  "language_info": {
   "file_extension": ".jl",
   "mimetype": "application/julia",
   "name": "julia",
   "version": "1.1.1"
  },
  "rise": {
   "scroll": true
  }
 },
 "nbformat": 4,
 "nbformat_minor": 3
}
